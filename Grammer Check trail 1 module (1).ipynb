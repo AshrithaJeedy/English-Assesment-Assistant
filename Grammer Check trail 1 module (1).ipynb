{
 "cells": [
  {
   "cell_type": "code",
   "execution_count": 1,
   "id": "c24ca1f5",
   "metadata": {},
   "outputs": [
    {
     "name": "stdout",
     "output_type": "stream",
     "text": [
      "Requirement already satisfied: speechrecognition in c:\\users\\christo\\anaconda3\\lib\\site-packages (3.9.0)\n",
      "Requirement already satisfied: requests>=2.26.0 in c:\\users\\christo\\anaconda3\\lib\\site-packages (from speechrecognition) (2.27.1)\n",
      "Requirement already satisfied: charset-normalizer~=2.0.0 in c:\\users\\christo\\anaconda3\\lib\\site-packages (from requests>=2.26.0->speechrecognition) (2.0.4)\n",
      "Requirement already satisfied: idna<4,>=2.5 in c:\\users\\christo\\anaconda3\\lib\\site-packages (from requests>=2.26.0->speechrecognition) (3.3)\n",
      "Requirement already satisfied: urllib3<1.27,>=1.21.1 in c:\\users\\christo\\anaconda3\\lib\\site-packages (from requests>=2.26.0->speechrecognition) (1.26.9)\n",
      "Requirement already satisfied: certifi>=2017.4.17 in c:\\users\\christo\\anaconda3\\lib\\site-packages (from requests>=2.26.0->speechrecognition) (2021.10.8)\n"
     ]
    }
   ],
   "source": [
    "!pip install speechrecognition"
   ]
  },
  {
   "cell_type": "code",
   "execution_count": 2,
   "id": "54fde663",
   "metadata": {},
   "outputs": [
    {
     "name": "stdout",
     "output_type": "stream",
     "text": [
      "Requirement already satisfied: pyaudio in c:\\users\\christo\\anaconda3\\lib\\site-packages (0.2.13)\n",
      "Note: you may need to restart the kernel to use updated packages.\n"
     ]
    }
   ],
   "source": [
    "pip install pyaudio"
   ]
  },
  {
   "cell_type": "code",
   "execution_count": 3,
   "id": "ed2cc345",
   "metadata": {},
   "outputs": [
    {
     "name": "stdout",
     "output_type": "stream",
     "text": [
      "Requirement already satisfied: happytransformer in c:\\users\\christo\\anaconda3\\lib\\site-packages (2.4.1)\n",
      "Requirement already satisfied: datasets>=1.6.0 in c:\\users\\christo\\anaconda3\\lib\\site-packages (from happytransformer) (2.8.0)\n",
      "Requirement already satisfied: transformers>=4.4.0 in c:\\users\\christo\\anaconda3\\lib\\site-packages (from happytransformer) (4.25.1)\n",
      "Requirement already satisfied: sentencepiece in c:\\users\\christo\\anaconda3\\lib\\site-packages (from happytransformer) (0.1.97)\n",
      "Requirement already satisfied: tqdm>=4.43 in c:\\users\\christo\\anaconda3\\lib\\site-packages (from happytransformer) (4.64.0)\n",
      "Requirement already satisfied: torch>=1.0 in c:\\users\\christo\\anaconda3\\lib\\site-packages (from happytransformer) (1.13.1+cu117)\n",
      "Requirement already satisfied: protobuf in c:\\users\\christo\\anaconda3\\lib\\site-packages (from happytransformer) (3.19.1)\n",
      "Requirement already satisfied: pandas in c:\\users\\christo\\anaconda3\\lib\\site-packages (from datasets>=1.6.0->happytransformer) (1.4.2)\n",
      "Requirement already satisfied: aiohttp in c:\\users\\christo\\anaconda3\\lib\\site-packages (from datasets>=1.6.0->happytransformer) (3.8.1)\n",
      "Requirement already satisfied: packaging in c:\\users\\christo\\anaconda3\\lib\\site-packages (from datasets>=1.6.0->happytransformer) (21.3)\n",
      "Requirement already satisfied: pyyaml>=5.1 in c:\\users\\christo\\anaconda3\\lib\\site-packages (from datasets>=1.6.0->happytransformer) (6.0)\n",
      "Requirement already satisfied: responses<0.19 in c:\\users\\christo\\anaconda3\\lib\\site-packages (from datasets>=1.6.0->happytransformer) (0.18.0)\n",
      "Requirement already satisfied: multiprocess in c:\\users\\christo\\anaconda3\\lib\\site-packages (from datasets>=1.6.0->happytransformer) (0.70.14)\n",
      "Requirement already satisfied: xxhash in c:\\users\\christo\\anaconda3\\lib\\site-packages (from datasets>=1.6.0->happytransformer) (3.2.0)\n",
      "Requirement already satisfied: dill<0.3.7 in c:\\users\\christo\\anaconda3\\lib\\site-packages (from datasets>=1.6.0->happytransformer) (0.3.6)\n",
      "Requirement already satisfied: numpy>=1.17 in c:\\users\\christo\\anaconda3\\lib\\site-packages (from datasets>=1.6.0->happytransformer) (1.21.5)\n",
      "Requirement already satisfied: huggingface-hub<1.0.0,>=0.2.0 in c:\\users\\christo\\anaconda3\\lib\\site-packages (from datasets>=1.6.0->happytransformer) (0.11.1)\n",
      "Requirement already satisfied: requests>=2.19.0 in c:\\users\\christo\\anaconda3\\lib\\site-packages (from datasets>=1.6.0->happytransformer) (2.27.1)\n",
      "Requirement already satisfied: fsspec[http]>=2021.11.1 in c:\\users\\christo\\anaconda3\\lib\\site-packages (from datasets>=1.6.0->happytransformer) (2022.2.0)Note: you may need to restart the kernel to use updated packages.\n",
      "\n",
      "Requirement already satisfied: pyarrow>=6.0.0 in c:\\users\\christo\\anaconda3\\lib\\site-packages (from datasets>=1.6.0->happytransformer) (10.0.1)\n",
      "Requirement already satisfied: typing-extensions>=3.7.4.3 in c:\\users\\christo\\anaconda3\\lib\\site-packages (from huggingface-hub<1.0.0,>=0.2.0->datasets>=1.6.0->happytransformer) (4.1.1)\n",
      "Requirement already satisfied: filelock in c:\\users\\christo\\anaconda3\\lib\\site-packages (from huggingface-hub<1.0.0,>=0.2.0->datasets>=1.6.0->happytransformer) (3.6.0)\n",
      "Requirement already satisfied: pyparsing!=3.0.5,>=2.0.2 in c:\\users\\christo\\anaconda3\\lib\\site-packages (from packaging->datasets>=1.6.0->happytransformer) (3.0.4)\n",
      "Requirement already satisfied: urllib3<1.27,>=1.21.1 in c:\\users\\christo\\anaconda3\\lib\\site-packages (from requests>=2.19.0->datasets>=1.6.0->happytransformer) (1.26.9)\n",
      "Requirement already satisfied: idna<4,>=2.5 in c:\\users\\christo\\anaconda3\\lib\\site-packages (from requests>=2.19.0->datasets>=1.6.0->happytransformer) (3.3)\n",
      "Requirement already satisfied: charset-normalizer~=2.0.0 in c:\\users\\christo\\anaconda3\\lib\\site-packages (from requests>=2.19.0->datasets>=1.6.0->happytransformer) (2.0.4)\n",
      "Requirement already satisfied: certifi>=2017.4.17 in c:\\users\\christo\\anaconda3\\lib\\site-packages (from requests>=2.19.0->datasets>=1.6.0->happytransformer) (2021.10.8)\n",
      "Requirement already satisfied: colorama in c:\\users\\christo\\anaconda3\\lib\\site-packages (from tqdm>=4.43->happytransformer) (0.4.4)\n",
      "Requirement already satisfied: regex!=2019.12.17 in c:\\users\\christo\\anaconda3\\lib\\site-packages (from transformers>=4.4.0->happytransformer) (2022.3.15)\n",
      "Requirement already satisfied: tokenizers!=0.11.3,<0.14,>=0.11.1 in c:\\users\\christo\\anaconda3\\lib\\site-packages (from transformers>=4.4.0->happytransformer) (0.13.2)\n",
      "Requirement already satisfied: frozenlist>=1.1.1 in c:\\users\\christo\\anaconda3\\lib\\site-packages (from aiohttp->datasets>=1.6.0->happytransformer) (1.2.0)\n",
      "Requirement already satisfied: aiosignal>=1.1.2 in c:\\users\\christo\\anaconda3\\lib\\site-packages (from aiohttp->datasets>=1.6.0->happytransformer) (1.2.0)\n",
      "Requirement already satisfied: async-timeout<5.0,>=4.0.0a3 in c:\\users\\christo\\anaconda3\\lib\\site-packages (from aiohttp->datasets>=1.6.0->happytransformer) (4.0.1)\n",
      "Requirement already satisfied: multidict<7.0,>=4.5 in c:\\users\\christo\\anaconda3\\lib\\site-packages (from aiohttp->datasets>=1.6.0->happytransformer) (5.1.0)\n",
      "Requirement already satisfied: attrs>=17.3.0 in c:\\users\\christo\\anaconda3\\lib\\site-packages (from aiohttp->datasets>=1.6.0->happytransformer) (21.4.0)\n",
      "Requirement already satisfied: yarl<2.0,>=1.0 in c:\\users\\christo\\anaconda3\\lib\\site-packages (from aiohttp->datasets>=1.6.0->happytransformer) (1.6.3)\n",
      "Requirement already satisfied: python-dateutil>=2.8.1 in c:\\users\\christo\\anaconda3\\lib\\site-packages (from pandas->datasets>=1.6.0->happytransformer) (2.8.2)\n",
      "Requirement already satisfied: pytz>=2020.1 in c:\\users\\christo\\anaconda3\\lib\\site-packages (from pandas->datasets>=1.6.0->happytransformer) (2021.3)\n",
      "Requirement already satisfied: six>=1.5 in c:\\users\\christo\\anaconda3\\lib\\site-packages (from python-dateutil>=2.8.1->pandas->datasets>=1.6.0->happytransformer) (1.16.0)\n"
     ]
    }
   ],
   "source": [
    "pip install happytransformer "
   ]
  },
  {
   "cell_type": "code",
   "execution_count": 4,
   "id": "48737218",
   "metadata": {},
   "outputs": [],
   "source": [
    "import speech_recognition as sr"
   ]
  },
  {
   "cell_type": "markdown",
   "id": "e5cad07f",
   "metadata": {},
   "source": [
    "## Speech Recognition Module \n"
   ]
  },
  {
   "cell_type": "code",
   "execution_count": 6,
   "id": "25dbb593",
   "metadata": {},
   "outputs": [],
   "source": [
    "r=sr.Recognizer()"
   ]
  },
  {
   "cell_type": "code",
   "execution_count": 7,
   "id": "b8b0d56a",
   "metadata": {},
   "outputs": [
    {
     "name": "stdout",
     "output_type": "stream",
     "text": [
      "Speak Now\n",
      "result2:\n",
      "[]\n",
      "Please say again !!!\n",
      "Speak Now\n",
      "result2:\n",
      "{   'alternative': [   {   'confidence': 0.87356448,\n",
      "                           'transcript': 'request to the zoo he went to the '\n",
      "                                         'zoo by bus'},\n",
      "                       {   'transcript': 'request to the zoo we went to the '\n",
      "                                         'zoo by bus'},\n",
      "                       {'transcript': 'request to the zoo he w w bus'},\n",
      "                       {'transcript': 'request to the zoo he w w w bus'}],\n",
      "    'final': True}\n",
      "Speaker: request to the zoo he went to the zoo by bus\n",
      "Speak Now\n",
      "result2:\n",
      "{   'alternative': [   {   'confidence': 0.78518182,\n",
      "                           'transcript': 'also Sa tigers giraffe'},\n",
      "                       {'transcript': 'tigers giraffe'},\n",
      "                       {'transcript': 'also tigers giraffe'},\n",
      "                       {'transcript': 'giraffe'},\n",
      "                       {'transcript': 'also Sa tigers giraff'}],\n",
      "    'final': True}\n",
      "Speaker: also Sa tigers giraffe\n",
      "Speak Now\n",
      "result2:\n",
      "{   'alternative': [   {   'confidence': 0.87079448,\n",
      "                           'transcript': 'for seeing the role of the big lion '\n",
      "                                         'face to face'},\n",
      "                       {   'transcript': 'was seeing the role of the big lion '\n",
      "                                         'face to face'},\n",
      "                       {   'transcript': 'was see in the role of the big lion '\n",
      "                                         'face to face'}],\n",
      "    'final': True}\n",
      "Speaker: for seeing the role of the big lion face to face\n",
      "Speak Now\n",
      "result2:\n",
      "{   'alternative': [   {   'confidence': 0.80291367,\n",
      "                           'transcript': 'like that behind the grass'},\n",
      "                       {'transcript': 'behind the grass'},\n",
      "                       {'transcript': 'Gras'},\n",
      "                       {'transcript': 'grass'}],\n",
      "    'final': True}\n",
      "Speaker: like that behind the grass\n",
      "Speak Now\n",
      "result2:\n",
      "{   'alternative': [   {   'confidence': 0.85246265,\n",
      "                           'transcript': 'with family or big groups'},\n",
      "                       {'transcript': 'family or big groups'},\n",
      "                       {'transcript': 'spend with family or big groups'},\n",
      "                       {'transcript': 'spent with family or big groups'},\n",
      "                       {'transcript': 'with family or big group'}],\n",
      "    'final': True}\n",
      "Speaker: with family or big groups\n",
      "Speak Now\n",
      "result2:\n",
      "[]\n",
      "Please say again !!!\n",
      "Speak Now\n",
      "result2:\n",
      "[]\n",
      "Please say again !!!\n"
     ]
    },
    {
     "ename": "KeyboardInterrupt",
     "evalue": "",
     "output_type": "error",
     "traceback": [
      "\u001b[1;31m---------------------------------------------------------------------------\u001b[0m",
      "\u001b[1;31mKeyboardInterrupt\u001b[0m                         Traceback (most recent call last)",
      "Input \u001b[1;32mIn [7]\u001b[0m, in \u001b[0;36m<cell line: 2>\u001b[1;34m()\u001b[0m\n\u001b[0;32m      2\u001b[0m \u001b[38;5;28;01mwith\u001b[39;00m sr\u001b[38;5;241m.\u001b[39mMicrophone() \u001b[38;5;28;01mas\u001b[39;00m source:\n\u001b[0;32m      3\u001b[0m     r\u001b[38;5;241m.\u001b[39madjust_for_ambient_noise(source, duration\u001b[38;5;241m=\u001b[39m\u001b[38;5;241m3\u001b[39m)\n\u001b[1;32m----> 4\u001b[0m     audio\u001b[38;5;241m=\u001b[39m\u001b[43mr\u001b[49m\u001b[38;5;241;43m.\u001b[39;49m\u001b[43mlisten\u001b[49m\u001b[43m(\u001b[49m\u001b[43msource\u001b[49m\u001b[43m)\u001b[49m\n\u001b[0;32m      6\u001b[0m     \u001b[38;5;28mprint\u001b[39m(\u001b[38;5;124m\"\u001b[39m\u001b[38;5;124mSpeak Now\u001b[39m\u001b[38;5;124m\"\u001b[39m)\n\u001b[0;32m      7\u001b[0m     \u001b[38;5;28;01mtry\u001b[39;00m:\n",
      "File \u001b[1;32m~\\anaconda3\\lib\\site-packages\\speech_recognition\\__init__.py:709\u001b[0m, in \u001b[0;36mRecognizer.listen\u001b[1;34m(self, source, timeout, phrase_time_limit, snowboy_configuration)\u001b[0m\n\u001b[0;32m    706\u001b[0m \u001b[38;5;28;01mif\u001b[39;00m phrase_time_limit \u001b[38;5;129;01mand\u001b[39;00m elapsed_time \u001b[38;5;241m-\u001b[39m phrase_start_time \u001b[38;5;241m>\u001b[39m phrase_time_limit:\n\u001b[0;32m    707\u001b[0m     \u001b[38;5;28;01mbreak\u001b[39;00m\n\u001b[1;32m--> 709\u001b[0m buffer \u001b[38;5;241m=\u001b[39m \u001b[43msource\u001b[49m\u001b[38;5;241;43m.\u001b[39;49m\u001b[43mstream\u001b[49m\u001b[38;5;241;43m.\u001b[39;49m\u001b[43mread\u001b[49m\u001b[43m(\u001b[49m\u001b[43msource\u001b[49m\u001b[38;5;241;43m.\u001b[39;49m\u001b[43mCHUNK\u001b[49m\u001b[43m)\u001b[49m\n\u001b[0;32m    710\u001b[0m \u001b[38;5;28;01mif\u001b[39;00m \u001b[38;5;28mlen\u001b[39m(buffer) \u001b[38;5;241m==\u001b[39m \u001b[38;5;241m0\u001b[39m: \u001b[38;5;28;01mbreak\u001b[39;00m  \u001b[38;5;66;03m# reached end of the stream\u001b[39;00m\n\u001b[0;32m    711\u001b[0m frames\u001b[38;5;241m.\u001b[39mappend(buffer)\n",
      "File \u001b[1;32m~\\anaconda3\\lib\\site-packages\\speech_recognition\\__init__.py:211\u001b[0m, in \u001b[0;36mMicrophone.MicrophoneStream.read\u001b[1;34m(self, size)\u001b[0m\n\u001b[0;32m    210\u001b[0m \u001b[38;5;28;01mdef\u001b[39;00m \u001b[38;5;21mread\u001b[39m(\u001b[38;5;28mself\u001b[39m, size):\n\u001b[1;32m--> 211\u001b[0m     \u001b[38;5;28;01mreturn\u001b[39;00m \u001b[38;5;28;43mself\u001b[39;49m\u001b[38;5;241;43m.\u001b[39;49m\u001b[43mpyaudio_stream\u001b[49m\u001b[38;5;241;43m.\u001b[39;49m\u001b[43mread\u001b[49m\u001b[43m(\u001b[49m\u001b[43msize\u001b[49m\u001b[43m,\u001b[49m\u001b[43m \u001b[49m\u001b[43mexception_on_overflow\u001b[49m\u001b[38;5;241;43m=\u001b[39;49m\u001b[38;5;28;43;01mFalse\u001b[39;49;00m\u001b[43m)\u001b[49m\n",
      "File \u001b[1;32m~\\anaconda3\\lib\\site-packages\\pyaudio\\__init__.py:570\u001b[0m, in \u001b[0;36mPyAudio.Stream.read\u001b[1;34m(self, num_frames, exception_on_overflow)\u001b[0m\n\u001b[0;32m    567\u001b[0m \u001b[38;5;28;01mif\u001b[39;00m \u001b[38;5;129;01mnot\u001b[39;00m \u001b[38;5;28mself\u001b[39m\u001b[38;5;241m.\u001b[39m_is_input:\n\u001b[0;32m    568\u001b[0m     \u001b[38;5;28;01mraise\u001b[39;00m \u001b[38;5;167;01mIOError\u001b[39;00m(\u001b[38;5;124m\"\u001b[39m\u001b[38;5;124mNot input stream\u001b[39m\u001b[38;5;124m\"\u001b[39m,\n\u001b[0;32m    569\u001b[0m                   paCanNotReadFromAnOutputOnlyStream)\n\u001b[1;32m--> 570\u001b[0m \u001b[38;5;28;01mreturn\u001b[39;00m \u001b[43mpa\u001b[49m\u001b[38;5;241;43m.\u001b[39;49m\u001b[43mread_stream\u001b[49m\u001b[43m(\u001b[49m\u001b[38;5;28;43mself\u001b[39;49m\u001b[38;5;241;43m.\u001b[39;49m\u001b[43m_stream\u001b[49m\u001b[43m,\u001b[49m\u001b[43m \u001b[49m\u001b[43mnum_frames\u001b[49m\u001b[43m,\u001b[49m\n\u001b[0;32m    571\u001b[0m \u001b[43m                      \u001b[49m\u001b[43mexception_on_overflow\u001b[49m\u001b[43m)\u001b[49m\n",
      "\u001b[1;31mKeyboardInterrupt\u001b[0m: "
     ]
    }
   ],
   "source": [
    "while True:\n",
    "    with sr.Microphone() as source:\n",
    "        r.adjust_for_ambient_noise(source, duration=3)\n",
    "        audio=r.listen(source)\n",
    "        \n",
    "        print(\"Speak Now\")\n",
    "        try:\n",
    "            text=r.recognize_google(audio)\n",
    "            print(\"Speaker:\",text)\n",
    "        except:\n",
    "            print(\"Please say again !!!\")"
   ]
  },
  {
   "cell_type": "code",
   "execution_count": 8,
   "id": "4e9d7724",
   "metadata": {},
   "outputs": [
    {
     "name": "stdout",
     "output_type": "stream",
     "text": [
      "with family or big groups\n",
      "\n"
     ]
    }
   ],
   "source": [
    "with open ('C:\\\\Users\\\\christo\\\\Desktop\\\\Speechout.txt','w+') as a:\n",
    "    a.write(text+'\\n')\n",
    "    a.seek(0,0)\n",
    "    print(a.read())"
   ]
  },
  {
   "cell_type": "markdown",
   "id": "90987c91",
   "metadata": {},
   "source": [
    "## Grammer Checking Module"
   ]
  },
  {
   "cell_type": "code",
   "execution_count": 9,
   "id": "e3016c46",
   "metadata": {},
   "outputs": [],
   "source": [
    "from happytransformer import  HappyTextToText"
   ]
  },
  {
   "cell_type": "code",
   "execution_count": 10,
   "id": "2136550c",
   "metadata": {},
   "outputs": [
    {
     "name": "stderr",
     "output_type": "stream",
     "text": [
      "01/26/2023 02:28:27 - INFO - happytransformer.happy_transformer -   Using model: cpu\n"
     ]
    }
   ],
   "source": [
    "happy_tt = HappyTextToText(\"T5\", \"vennify/t5-base-grammar-correction\")"
   ]
  },
  {
   "cell_type": "code",
   "execution_count": 11,
   "id": "b48915a9",
   "metadata": {},
   "outputs": [],
   "source": [
    "from happytransformer import TTSettings"
   ]
  },
  {
   "cell_type": "code",
   "execution_count": 12,
   "id": "e3cb1d60",
   "metadata": {},
   "outputs": [],
   "source": [
    "beam_settings= TTSettings(num_beams=5, min_length=1 , max_length=100)"
   ]
  },
  {
   "cell_type": "code",
   "execution_count": 13,
   "id": "70fd19df",
   "metadata": {},
   "outputs": [],
   "source": [
    "with open('C:\\\\Users\\\\christo\\\\Desktop\\\\Speechout.txt','r') as a:\n",
    "    read=a.readlines()"
   ]
  },
  {
   "cell_type": "code",
   "execution_count": 14,
   "id": "c3ce9b10",
   "metadata": {},
   "outputs": [
    {
     "name": "stdout",
     "output_type": "stream",
     "text": [
      "['with family or big groups\\n']\n"
     ]
    }
   ],
   "source": [
    "print(read)"
   ]
  },
  {
   "cell_type": "code",
   "execution_count": 17,
   "id": "e5eb48c2",
   "metadata": {},
   "outputs": [
    {
     "name": "stdout",
     "output_type": "stream",
     "text": [
      "<class 'str'>\n"
     ]
    }
   ],
   "source": [
    "read_1= ''.join(read)\n",
    "input_text=(read_1)\n",
    "print(type(input_text))"
   ]
  },
  {
   "cell_type": "code",
   "execution_count": 18,
   "id": "bdc97dbb",
   "metadata": {},
   "outputs": [
    {
     "name": "stdout",
     "output_type": "stream",
     "text": [
      "Families or big groups can get together with family or big groups.\n"
     ]
    }
   ],
   "source": [
    "output_text=happy_tt.generate_text(input_text, args=beam_settings)\n",
    "print(output_text.text) "
   ]
  },
  {
   "cell_type": "code",
   "execution_count": null,
   "id": "76d7427b",
   "metadata": {},
   "outputs": [],
   "source": []
  }
 ],
 "metadata": {
  "kernelspec": {
   "display_name": "Python 3 (ipykernel)",
   "language": "python",
   "name": "python3"
  },
  "language_info": {
   "codemirror_mode": {
    "name": "ipython",
    "version": 3
   },
   "file_extension": ".py",
   "mimetype": "text/x-python",
   "name": "python",
   "nbconvert_exporter": "python",
   "pygments_lexer": "ipython3",
   "version": "3.9.12"
  }
 },
 "nbformat": 4,
 "nbformat_minor": 5
}
