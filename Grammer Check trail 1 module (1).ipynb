#!/usr/bin/env python
# coding: utf-8

# In[1]:


get_ipython().system('pip install speechrecognition')


# In[2]:


pip install pyaudio


# In[3]:


pip install happytransformer 


# In[5]:


import speech_recognition as sr


# ## Speech Recognition Module 
# 

# In[31]:


r=sr.Recognizer()


# In[35]:



    with sr.Microphone() as source:
        r.adjust_for_ambient_noise(source, duration=3)
        audio=r.listen(source)
        
        print("Speak Now")
        try:
            text=r.recognize_google(audio)
            print("Speaker:",text)
        except:
            print("Please say again !!!")


# In[36]:


with open ('C:\\Users\\christo\\Desktop\\Speechout_2.txt','w+') as a:
    a.write(text+'\n')
    a.seek(0,0)
    print(a.read())


# ## Grammer Checking Module

# In[37]:


from happytransformer import  HappyTextToText


# In[38]:


happy_tt = HappyTextToText("T5", "vennify/t5-base-grammar-correction")


# In[39]:


from happytransformer import TTSettings


# In[40]:


beam_settings= TTSettings(num_beams=5, min_length=1 , max_length=100)


# In[41]:


with open('C:\\Users\\christo\\Desktop\\Speechout_2.txt','r') as a:
    read=a.readlines()


# In[42]:


print(read)


# In[43]:


read_1= ''.join(read)
input_text=(read_1)
print(type(input_text))


# In[44]:


output_text=happy_tt.generate_text(input_text, args=beam_settings)
print(output_text.text) 


# In[ ]:





